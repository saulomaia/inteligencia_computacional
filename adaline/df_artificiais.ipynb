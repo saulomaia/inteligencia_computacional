{
 "cells": [
  {
   "cell_type": "code",
   "execution_count": 1,
   "metadata": {},
   "outputs": [],
   "source": [
    "import numpy as np\n",
    "import random\n",
    "import matplotlib.pyplot as plt\n",
    "import pandas as pd\n",
    "from sklearn. preprocessing import Normalizer"
   ]
  },
  {
   "cell_type": "markdown",
   "metadata": {},
   "source": [
    "# GERACÃO BANCO DE DADOS - ARTIFICIAL I\n",
    "\n",
    "- Artificial I: obtido de uma função com uma variável independente e uma dependente, tal que f(x) = ax + b. Escolha valores para a e b e adicione algum ruído ao valor de f(x), para tal use a função rand()"
   ]
  },
  {
   "cell_type": "code",
   "execution_count": 2,
   "metadata": {},
   "outputs": [],
   "source": [
    "def func_art1(x1):\n",
    "    \n",
    "    array_y = []\n",
    "    \n",
    "    for i in range(0, len(x1)):\n",
    "        \n",
    "        a = 5\n",
    "        b = random.random()\n",
    "        \n",
    "        y = a*x1[i] + b\n",
    "        \n",
    "        array_y.append(y)\n",
    "        \n",
    "    return array_y"
   ]
  },
  {
   "cell_type": "code",
   "execution_count": 3,
   "metadata": {},
   "outputs": [
    {
     "data": {
      "image/png": "[encoded data removed]",
      "text/plain": [
       "<Figure size 432x288 with 1 Axes>"
      ]
     },
     "metadata": {
      "needs_background": "light"
     },
     "output_type": "display_data"
    }
   ],
   "source": [
    "x = (np.arange(-10, 10, 0.45))\n",
    "normalizer = Normalizer().fit([x])\n",
    "x_norm = normalizer.transform([x])\n",
    "\n",
    "y1 = func_art1(x_norm[0])\n",
    "\n",
    "%matplotlib inline\n",
    "plt.scatter(x, y1, s=50)\n",
    "plt.grid()\n",
    "plt.xlabel(\"X Points\", fontsize=18);\n",
    "plt.ylabel(\"Y Points\", fontsize=18);\n",
    "plt.title(\"Conjunto de Dados - Artificial I\", fontsize=17);"
   ]
  },
  {
   "cell_type": "code",
   "execution_count": 4,
   "metadata": {},
   "outputs": [
    {
     "data": {
      "text/html": [
       "<div>\n",
       "<style scoped>\n",
       "    .dataframe tbody tr th:only-of-type {\n",
       "        vertical-align: middle;\n",
       "    }\n",
       "\n",
       "    .dataframe tbody tr th {\n",
       "        vertical-align: top;\n",
       "    }\n",
       "\n",
       "    .dataframe thead th {\n",
       "        text-align: right;\n",
       "    }\n",
       "</style>\n",
       "<table border=\"1\" class=\"dataframe\">\n",
       "  <thead>\n",
       "    <tr style=\"text-align: right;\">\n",
       "      <th></th>\n",
       "      <th>x1</th>\n",
       "      <th>y</th>\n",
       "    </tr>\n",
       "  </thead>\n",
       "  <tbody>\n",
       "    <tr>\n",
       "      <th>0</th>\n",
       "      <td>-0.255037</td>\n",
       "      <td>-0.745760</td>\n",
       "    </tr>\n",
       "    <tr>\n",
       "      <th>1</th>\n",
       "      <td>-0.243560</td>\n",
       "      <td>-0.982081</td>\n",
       "    </tr>\n",
       "    <tr>\n",
       "      <th>2</th>\n",
       "      <td>-0.232084</td>\n",
       "      <td>-0.563156</td>\n",
       "    </tr>\n",
       "    <tr>\n",
       "      <th>3</th>\n",
       "      <td>-0.220607</td>\n",
       "      <td>-0.560343</td>\n",
       "    </tr>\n",
       "    <tr>\n",
       "      <th>4</th>\n",
       "      <td>-0.209130</td>\n",
       "      <td>-1.038206</td>\n",
       "    </tr>\n",
       "  </tbody>\n",
       "</table>\n",
       "</div>"
      ],
      "text/plain": [
       "         x1         y\n",
       "0 -0.255037 -0.745760\n",
       "1 -0.243560 -0.982081\n",
       "2 -0.232084 -0.563156\n",
       "3 -0.220607 -0.560343\n",
       "4 -0.209130 -1.038206"
      ]
     },
     "execution_count": 4,
     "metadata": {},
     "output_type": "execute_result"
    }
   ],
   "source": [
    "data1 = {'x1': x_norm[0], 'y': y1}\n",
    "df_art_1 = pd.DataFrame(data1)\n",
    "df_art_1.head()"
   ]
  },
  {
   "cell_type": "code",
   "execution_count": 5,
   "metadata": {},
   "outputs": [],
   "source": [
    "df_art_1.to_csv('df_art_1', sep=',', index=False)"
   ]
  },
  {
   "cell_type": "markdown",
   "metadata": {},
   "source": [
    "# GERACÃO BANCO DE DADOS - ARTIFICIAL II\n",
    "\n",
    "- Similar à apresentada acima, porém com duas variáveis independentes, ou seja, f(x) = ax1 + bx2 + c. Assim, também escolha valores para a,b e c; bem como adicione ruído à f(x)."
   ]
  },
  {
   "cell_type": "code",
   "execution_count": 6,
   "metadata": {},
   "outputs": [],
   "source": [
    "def func_art2(x1, x2):\n",
    "    \n",
    "    array_y = []\n",
    "    \n",
    "    for i in range(0, len(x1)):\n",
    "        \n",
    "        a = 5\n",
    "        b = 7\n",
    "        c = random.random()\n",
    "        \n",
    "        y = a*x1[i] + b*x2[i] + c\n",
    "        \n",
    "        array_y.append(y)\n",
    "        \n",
    "    return array_y"
   ]
  },
  {
   "cell_type": "code",
   "execution_count": 7,
   "metadata": {},
   "outputs": [],
   "source": [
    "x1 = np.arange(-10, 10, 0.3)\n",
    "normalizer_x1 = Normalizer().fit([x1])\n",
    "x1_norm = normalizer.transform([x1])\n",
    "x2 = np.arange(0, 6.7, 0.1)\n",
    "normalizer_x2 = Normalizer().fit([x2])\n",
    "x2_norm = normalizer.transform([x2])\n",
    "\n",
    "y2 = func_art2(x1_norm[0], x2_norm[0])"
   ]
  },
  {
   "cell_type": "code",
   "execution_count": 8,
   "metadata": {},
   "outputs": [
    {
     "data": {
      "text/html": [
       "<div>\n",
       "<style scoped>\n",
       "    .dataframe tbody tr th:only-of-type {\n",
       "        vertical-align: middle;\n",
       "    }\n",
       "\n",
       "    .dataframe tbody tr th {\n",
       "        vertical-align: top;\n",
       "    }\n",
       "\n",
       "    .dataframe thead th {\n",
       "        text-align: right;\n",
       "    }\n",
       "</style>\n",
       "<table border=\"1\" class=\"dataframe\">\n",
       "  <thead>\n",
       "    <tr style=\"text-align: right;\">\n",
       "      <th></th>\n",
       "      <th>x1</th>\n",
       "      <th>x2</th>\n",
       "      <th>y</th>\n",
       "    </tr>\n",
       "  </thead>\n",
       "  <tbody>\n",
       "    <tr>\n",
       "      <th>0</th>\n",
       "      <td>-0.210543</td>\n",
       "      <td>0.000000</td>\n",
       "      <td>-0.657808</td>\n",
       "    </tr>\n",
       "    <tr>\n",
       "      <th>1</th>\n",
       "      <td>-0.204227</td>\n",
       "      <td>0.003194</td>\n",
       "      <td>-0.136522</td>\n",
       "    </tr>\n",
       "    <tr>\n",
       "      <th>2</th>\n",
       "      <td>-0.197911</td>\n",
       "      <td>0.006388</td>\n",
       "      <td>-0.125890</td>\n",
       "    </tr>\n",
       "    <tr>\n",
       "      <th>3</th>\n",
       "      <td>-0.191594</td>\n",
       "      <td>0.009582</td>\n",
       "      <td>0.041982</td>\n",
       "    </tr>\n",
       "    <tr>\n",
       "      <th>4</th>\n",
       "      <td>-0.185278</td>\n",
       "      <td>0.012776</td>\n",
       "      <td>-0.785434</td>\n",
       "    </tr>\n",
       "  </tbody>\n",
       "</table>\n",
       "</div>"
      ],
      "text/plain": [
       "         x1        x2         y\n",
       "0 -0.210543  0.000000 -0.657808\n",
       "1 -0.204227  0.003194 -0.136522\n",
       "2 -0.197911  0.006388 -0.125890\n",
       "3 -0.191594  0.009582  0.041982\n",
       "4 -0.185278  0.012776 -0.785434"
      ]
     },
     "execution_count": 8,
     "metadata": {},
     "output_type": "execute_result"
    }
   ],
   "source": [
    "data2 = {'x1': x1_norm[0], 'x2': x2_norm[0], 'y': y2}\n",
    "df_art_2 = pd.DataFrame(data2)\n",
    "df_art_2.head()"
   ]
  },
  {
   "cell_type": "code",
   "execution_count": 9,
   "metadata": {},
   "outputs": [],
   "source": [
    "df_art_2.to_csv('df_art_2', sep=',', index=False)"
   ]
  },
  {
   "cell_type": "code",
   "execution_count": 10,
   "metadata": {},
   "outputs": [
    {
     "data": {
      "image/png": "[encoded data removed]",
      "text/plain": [
       "<Figure size 432x288 with 1 Axes>"
      ]
     },
     "metadata": {
      "needs_background": "light"
     },
     "output_type": "display_data"
    }
   ],
   "source": [
    "%matplotlib inline\n",
    "from mpl_toolkits.mplot3d import Axes3D\n",
    "fig = plt.figure()\n",
    "ax = fig.add_subplot(111, projection='3d')\n",
    "ax.scatter(x1_norm[0], x2_norm[0], y2, s=30)\n",
    "\n",
    "ax.set_xlabel('X1')\n",
    "ax.set_ylabel('X2')\n",
    "ax.set_zlabel('Y');"
   ]
  },
  {
   "cell_type": "code",
   "execution_count": null,
   "metadata": {},
   "outputs": [],
   "source": []
  }
 ],
 "metadata": {
  "kernelspec": {
   "display_name": "Python 3",
   "language": "python",
   "name": "python3"
  },
  "language_info": {
   "codemirror_mode": {
    "name": "ipython",
    "version": 3
   },
   "file_extension": ".py",
   "mimetype": "text/x-python",
   "name": "python",
   "nbconvert_exporter": "python",
   "pygments_lexer": "ipython3",
   "version": "3.7.1"
  }
 },
 "nbformat": 4,
 "nbformat_minor": 2
}
