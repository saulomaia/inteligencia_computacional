{
 "cells": [
  {
   "cell_type": "code",
   "execution_count": 1,
   "metadata": {},
   "outputs": [],
   "source": [
    "import random\n",
    "import pandas as pd\n",
    "import numpy as np\n",
    "import seaborn as sns\n",
    "from matplotlib import pyplot as plt\n",
    "import math\n",
    "from sklearn import metrics\n",
    "from sklearn.model_selection import train_test_split\n",
    "from sklearn.utils.multiclass import unique_labels\n",
    "import timeit"
   ]
  },
  {
   "cell_type": "code",
   "execution_count": 2,
   "metadata": {},
   "outputs": [],
   "source": [
    "dataset_setosa = pd.read_csv(\"datasets/iris/df_setosa_d\", sep=',')\n",
    "dataset_versicolor = pd.read_csv(\"datasets/iris/df_versicolor_d\", sep=',')\n",
    "dataset_virginica = pd.read_csv(\"datasets/iris/df_virginica_d\", sep=',')"
   ]
  },
  {
   "cell_type": "code",
   "execution_count": 3,
   "metadata": {},
   "outputs": [],
   "source": [
    "df_setosa_train = dataset_setosa.drop(['d1', 'd2', 'd3'], axis=1, inplace=False)\n",
    "df_setosa_class = dataset_setosa[[\"d1\", \"d2\", \"d3\"]]"
   ]
  },
  {
   "cell_type": "code",
   "execution_count": 4,
   "metadata": {},
   "outputs": [],
   "source": [
    "setosa_class = []\n",
    "for st in range(0, len(df_setosa_class)):\n",
    "    setosa_class.append([df_setosa_class.d1[st], df_setosa_class.d2[st], df_setosa_class.d3[st]])"
   ]
  },
  {
   "cell_type": "code",
   "execution_count": 5,
   "metadata": {},
   "outputs": [],
   "source": [
    "df_versicolor_train = dataset_versicolor.drop(['d1', 'd2', 'd3'], axis=1, inplace=False)\n",
    "df_versicolor_class = dataset_versicolor[[\"d1\", \"d2\", \"d3\"]]"
   ]
  },
  {
   "cell_type": "code",
   "execution_count": 6,
   "metadata": {},
   "outputs": [],
   "source": [
    "versicolor_class = []\n",
    "for ver in range(0, len(df_versicolor_class)):\n",
    "    versicolor_class.append([df_versicolor_class.d1[ver], df_versicolor_class.d2[ver], df_versicolor_class.d3[ver]])"
   ]
  },
  {
   "cell_type": "code",
   "execution_count": 7,
   "metadata": {},
   "outputs": [],
   "source": [
    "df_virginica_train = dataset_virginica.drop(['d1', 'd2', 'd3'], axis=1, inplace=False)\n",
    "df_virginica_class = dataset_virginica[[\"d1\", \"d2\", \"d3\"]]"
   ]
  },
  {
   "cell_type": "code",
   "execution_count": null,
   "metadata": {},
   "outputs": [],
   "source": [
    "virginica_class = []\n",
    "for vir in range(0, len(df_virginica_class)):\n",
    "    virginica_class.append([df_virginica_class.d1[vir], df_virginica_class.d2[vir], df_virginica_class.d3[vir]])"
   ]
  },
  {
   "cell_type": "code",
   "execution_count": null,
   "metadata": {},
   "outputs": [],
   "source": [
    "new_df_setosa_train = df_setosa_train.drop([\"petal length (cm)\", \"petal width (cm)\"], axis=1, inplace=False)\n",
    "new_df_versicolor_train = df_versicolor_train.drop([\"petal length (cm)\", \"petal width (cm)\"], axis=1, inplace=False)\n",
    "new_df_virginica_train = df_virginica_train.drop([\"petal length (cm)\", \"petal width (cm)\"], axis=1, inplace=False)"
   ]
  },
  {
   "cell_type": "code",
   "execution_count": null,
   "metadata": {},
   "outputs": [],
   "source": [
    "class Perceptron_simples():\n",
    "    \n",
    "    def __init__(self, amostras_entrada, saidas, taxa_aprendizado=0.05, epocas=200, bias=-1, num_neuronios=3):\n",
    "        self.amostras_entrada = amostras_entrada\n",
    "        self.saidas = saidas\n",
    "        self.taxa_aprendizado = taxa_aprendizado\n",
    "        self.epocas = epocas\n",
    "        self.bias = bias\n",
    "        self.num_neuronios = num_neuronios\n",
    "        self.num_amostras = len(amostras_entrada) # número de padrões do meu dataset\n",
    "        self.num_atributos = len(amostras_entrada[0]) # número de colunas do mue dataset\n",
    "        self.vetor_pesos = np.zeros((self.num_neuronios, self.num_atributos + 1))\n",
    "        \n",
    "    def treino_rede(self):\n",
    "        \n",
    "        for amostra in self.amostras_entrada:\n",
    "            amostra.insert(0, self.bias)\n",
    "        \n",
    "        \n",
    "        for b in range(self.num_neuronios):\n",
    "            for c in range(self.num_atributos + 1):\n",
    "                self.vetor_pesos[b][c] = (random.random())\n",
    "   \n",
    "        num_epocas = 0 \n",
    "        \n",
    "        while True:\n",
    "        \n",
    "            erro = False\n",
    "            \n",
    "            for i in range(self.num_amostras):\n",
    "                u = np.zeros(self.num_neuronios)\n",
    "                \n",
    "                y_saida = []\n",
    "                \n",
    "                for b in range(self.num_neuronios):\n",
    "                    y_saida.append([])\n",
    "                    for j in range(self.num_atributos + 1): \n",
    "                        u[b] += self.vetor_pesos[b][j] * self.amostras_entrada[i][j] \n",
    "                        \n",
    "                    y_saida[b] = self.valor_saida(u[b])\n",
    "                \n",
    "                \n",
    "                if np.any(y_saida != self.saidas[i]):\n",
    "                    \n",
    "                    erro_true = np.subtract(self.saidas[i], y_saida)                    \n",
    "                    vet_erro = np.array([[erro_true[0]*self.sigmoid_(y_saida[0])], [erro_true[1]*self.sigmoid_(y_saida[1])], [erro_true[2]*self.sigmoid_(y_saida[2])]])\n",
    "                    self.vetor_pesos = self.vetor_pesos + self.taxa_aprendizado * vet_erro * self.amostras_entrada[i]\n",
    "                    erro = True \n",
    "            \n",
    "            num_epocas += 1 \n",
    "            \n",
    "            if not erro or num_epocas >= self.epocas:\n",
    "                break\n",
    "                        \n",
    "    def teste_rede(self, new_amostras): \n",
    "        \n",
    "        new_amostras.insert(0, self.bias)\n",
    "        u = np.zeros(self.num_neuronios)\n",
    "                \n",
    "        y_saida = []\n",
    "\n",
    "        for b in range(self.num_neuronios):\n",
    "            y_saida.append([])\n",
    "            for j in range(self.num_atributos + 1): \n",
    "                u[b] += self.vetor_pesos[b][j] * new_amostras[j] \n",
    "\n",
    "            y_saida[b] = self.valor_saida(u[b])\n",
    "            \n",
    "            \n",
    "        return y_saida\n",
    "        \n",
    "        \n",
    "    def valor_saida(self, u):\n",
    "        \n",
    "        sig = 1 / (1 + np.exp(-u))\n",
    "        \n",
    "        if sig > 0.5:\n",
    "            return 1\n",
    "        else:\n",
    "            return 0\n",
    "   \n",
    "    def sigmoid_(self, x):\n",
    "        \n",
    "        sig = 1 / (1 + np.exp(-x))\n",
    "\n",
    "        return sig * (1 - sig)"
   ]
  },
  {
   "cell_type": "code",
   "execution_count": null,
   "metadata": {},
   "outputs": [],
   "source": [
    "def data_test(train_data, class_data, test_size, n_iter):\n",
    "    \n",
    "    start = timeit.default_timer()\n",
    "    \n",
    "    acc_final = []\n",
    "    std_final = []\n",
    "\n",
    "    for rep in range(1 , n_iter + 1):\n",
    "        X_train, X_test, y_train, y_test = train_test_split(train_data,class_data, \n",
    "                                                            test_size=test_size, shuffle=True)\n",
    "\n",
    "        amostras = X_train.values.tolist()\n",
    "        saidas = y_train\n",
    "        new_amotras = X_test.values.tolist()\n",
    "        amostra_teste = y_test\n",
    "\n",
    "        rede = Perceptron_simples(amostras, saidas)\n",
    "        rede.treino_rede()\n",
    "\n",
    "        classe_predita = []\n",
    "\n",
    "        for pd in range(len(new_amotras)):\n",
    "            y = rede.teste_rede(new_amotras[pd])\n",
    "            classe_predita.append(y)\n",
    "        \n",
    "        \n",
    "        acc_parcial = []\n",
    "        for h in range(len(classe_predita)):\n",
    "            acc = metrics.accuracy_score(amostra_teste[h], classe_predita[h])\n",
    "            acc_parcial.append(acc)\n",
    "\n",
    "        acc_final.append(np.mean(acc_parcial))\n",
    "        std_final.append(np.std(acc_parcial))\n",
    "\n",
    "    acc_real = np.mean(acc_final)\n",
    "    std_real = np.mean(std_final)\n",
    "    print(\"Acurácia Final = {}, Desvio Padrão Final = {}\" .format(acc_real, std_real))\n",
    "    \n",
    "    stop = timeit.default_timer()\n",
    "    print('Time: ', stop - start) \n",
    "    \n",
    "    return rede, classe_predita, new_amotras"
   ]
  },
  {
   "cell_type": "code",
   "execution_count": null,
   "metadata": {},
   "outputs": [
    {
     "name": "stdout",
     "output_type": "stream",
     "text": [
      "Acurácia Final = 0.9977777777777778, Desvio Padrão Final = 0.013261709932718116\n",
      "Time:  1.1905487999999993\n"
     ]
    }
   ],
   "source": [
    "rede_setosa, _, _ = data_test(df_setosa_train, setosa_class, test_size=0.3, n_iter=20)"
   ]
  },
  {
   "cell_type": "code",
   "execution_count": null,
   "metadata": {},
   "outputs": [
    {
     "name": "stdout",
     "output_type": "stream",
     "text": [
      "Acurácia Final = 0.8855555555555554, Desvio Padrão Final = 0.151436647596359\n",
      "Time:  42.855988513999996\n"
     ]
    }
   ],
   "source": [
    "rede_versicolor, _, _ = data_test(df_versicolor_train, versicolor_class, test_size=0.3, n_iter=20)"
   ]
  },
  {
   "cell_type": "code",
   "execution_count": null,
   "metadata": {},
   "outputs": [
    {
     "name": "stdout",
     "output_type": "stream",
     "text": [
      "Acurácia Final = 0.8859259259259258, Desvio Padrão Final = 0.15261229610138666\n",
      "Time:  36.74533537200001\n"
     ]
    }
   ],
   "source": [
    "rede_virginica, _, _ = data_test(df_virginica_train, virginica_class, test_size=0.3, n_iter=20)"
   ]
  },
  {
   "cell_type": "code",
   "execution_count": null,
   "metadata": {},
   "outputs": [],
   "source": [
    "import pandas as pd\n",
    "dataset_art_1 = pd.read_csv(\"datasets/artificial_1/df_artificial_1\", sep=',')"
   ]
  },
  {
   "cell_type": "code",
   "execution_count": null,
   "metadata": {},
   "outputs": [],
   "source": [
    "dataset_art_1_train = dataset_art_1.drop(['d1', 'd2', 'd3'], axis=1, inplace=False)\n",
    "dataset_art_1_class = dataset_art_1[[\"d1\", \"d2\", \"d3\"]]"
   ]
  },
  {
   "cell_type": "code",
   "execution_count": null,
   "metadata": {},
   "outputs": [],
   "source": [
    "art_1_class = []\n",
    "for art in range(0, len(dataset_art_1_class)):\n",
    "    art_1_class.append([dataset_art_1_class.d1[art], dataset_art_1_class.d2[art], dataset_art_1_class.d3[art]])"
   ]
  },
  {
   "cell_type": "code",
   "execution_count": null,
   "metadata": {},
   "outputs": [
    {
     "name": "stdout",
     "output_type": "stream",
     "text": [
      "Acurácia Final = 0.992962962962963, Desvio Padrão Final = 0.03581612847115052\n",
      "Time:  3.9542184380000123\n"
     ]
    }
   ],
   "source": [
    "rede_art, _, _ = data_test(dataset_art_1_train, art_1_class, test_size=0.3, n_iter=20)"
   ]
  },
  {
   "cell_type": "code",
   "execution_count": null,
   "metadata": {},
   "outputs": [],
   "source": [
    "classe_predita = []\n",
    "\n",
    "for i in np.arange(0,1.05,0.05):\n",
    "    for k in np.arange(0,1.05,0.05):\n",
    "        par = [i,k]\n",
    "        y = rede_art.teste_rede(par)\n",
    "        classe_predita.append([par[1], par[2], y])"
   ]
  },
  {
   "cell_type": "code",
   "execution_count": null,
   "metadata": {},
   "outputs": [],
   "source": [
    "x1 = []\n",
    "x2 = []\n",
    "cl = []\n",
    "\n",
    "for i in range(0, len(classe_predita)):\n",
    "    plt_x = classe_predita[i][0]\n",
    "    plt_y = classe_predita[i][1]\n",
    "    x1.append(plt_x)\n",
    "    x2.append(plt_y)\n",
    "    classe = classe_predita[i][2]  \n",
    "    if classe == [1,0,0]:\n",
    "        cl.append(1)\n",
    "    elif classe == [0,1,0]:\n",
    "        cl.append(2)\n",
    "    elif classe == [0,0,1]:\n",
    "        cl.append(3)\n",
    "    else:\n",
    "        cl.append(4)"
   ]
  },
  {
   "cell_type": "code",
   "execution_count": null,
   "metadata": {},
   "outputs": [
    {
     "data": {
      "image/png": "[encoded data removed]",
      "text/plain": [
       "<Figure size 432x288 with 1 Axes>"
      ]
     },
     "metadata": {
      "needs_background": "light"
     },
     "output_type": "display_data"
    }
   ],
   "source": [
    "%matplotlib inline\n",
    "plt.scatter(x1, x2, c=cl, marker='o', s=10)\n",
    "plt.scatter([], [], alpha=0.7, c=\"b\", label=\"Estrela\")\n",
    "plt.scatter([], [], alpha=1, c=\"purple\", label=\"Circulo\")\n",
    "plt.scatter([], [], alpha=1, c=\"g\", label=\"Triangulo\")\n",
    "plt.scatter([], [], alpha=1, c=\"y\", label=\"Indefinido\")\n",
    "plt.legend()\n",
    "\n",
    "plt.xticks(np.arange(-0.1, 1.2, step=0.2))\n",
    "plt.yticks(np.arange(-0.1, 1.2, step=0.2))\n",
    "plt.xlabel(\"X1 Points\", fontsize=18);\n",
    "plt.ylabel(\"X2 Points\", fontsize=18);\n",
    "plt.title(\"Superfície de Decisão - Conjunto Artificial\", fontsize=17);"
   ]
  },
  {
   "cell_type": "code",
   "execution_count": null,
   "metadata": {},
   "outputs": [],
   "source": [
    "dataset_iris = pd.read_csv(\"datasets/iris/df_iris\", sep=',')"
   ]
  },
  {
   "cell_type": "code",
   "execution_count": null,
   "metadata": {},
   "outputs": [],
   "source": [
    "dataset_iris_train = dataset_iris.drop([\"d_set\", \"d_vers\", \"d_virg\"], axis=1, inplace=False)\n",
    "dataset_iris_class = dataset_iris[[\"d_set\", \"d_vers\", \"d_virg\"]]"
   ]
  },
  {
   "cell_type": "code",
   "execution_count": null,
   "metadata": {},
   "outputs": [],
   "source": [
    "df_iris_class = []\n",
    "for art in range(0, len(dataset_iris_class)):\n",
    "    df_iris_class.append([dataset_iris_class.d_set[art], dataset_iris_class.d_vers[art], dataset_iris_class.d_virg[art]])"
   ]
  },
  {
   "cell_type": "code",
   "execution_count": null,
   "metadata": {},
   "outputs": [
    {
     "name": "stdout",
     "output_type": "stream",
     "text": [
      "Acurácia Final = 0.8674074074074072, Desvio Padrão Final = 0.1736328985111205\n",
      "Time:  37.484602757000005\n"
     ]
    }
   ],
   "source": [
    "rede_iris, _, _ = data_test(dataset_iris_train, df_iris_class, test_size=0.3, n_iter=20)"
   ]
  },
  {
   "cell_type": "code",
   "execution_count": null,
   "metadata": {},
   "outputs": [],
   "source": [
    "import pandas as pd\n",
    "dataset_coluna = pd.read_csv(\"datasets/coluna_vertebral/df_coluna\", sep=',')\n",
    "df_coluna_train = dataset_coluna.drop(['d1', 'd2', 'd3'], axis=1, inplace=False)\n",
    "df_coluna_class = dataset_coluna[[\"d1\", \"d2\", \"d3\"]]"
   ]
  },
  {
   "cell_type": "code",
   "execution_count": null,
   "metadata": {},
   "outputs": [],
   "source": [
    "rede, clas, new_am = data_test(df_coluna_train, df_coluna_class.values.tolist(), test_size=0.3, n_iter=20)"
   ]
  },
  {
   "cell_type": "code",
   "execution_count": null,
   "metadata": {},
   "outputs": [],
   "source": [
    "new_df_iris_train = dataset_iris_train.drop([\"petal length (cm)\", \"petal width (cm)\"], axis=1, inplace=False)"
   ]
  },
  {
   "cell_type": "code",
   "execution_count": null,
   "metadata": {},
   "outputs": [],
   "source": [
    "rede, clas, new_am = data_test(new_df_iris_train, df_iris_class, test_size=0.3, n_iter=20)\n",
    "\n",
    "x1 = []\n",
    "x2 = []\n",
    "cl = []\n",
    "\n",
    "for i in range(0, len(clas)):\n",
    "    plt_x = new_am[i][1]\n",
    "    plt_y = new_am[i][2]\n",
    "    x1.append(plt_x)\n",
    "    x2.append(plt_y)\n",
    "    #classe = clas[i][2]  \n",
    "    if clas[i] == [1,0,0]:\n",
    "        cl.append(1)\n",
    "    elif clas[i] == [0,1,0]:\n",
    "        cl.append(2)\n",
    "    elif clas[i] == [0,0,1]:\n",
    "        cl.append(3)\n",
    "    else:\n",
    "        cl.append(4)\n",
    "\n",
    "%matplotlib inline\n",
    "plt.scatter(x1, x2, c=cl, marker='o', s=30, cmap=\"coolwarm\")\n",
    "plt.xlabel(\"X1 Points\", fontsize=18);\n",
    "plt.ylabel(\"X2 Points\", fontsize=18);\n",
    "plt.title(\"Superfície de Decisão - Conjunto Artificial\", fontsize=17);"
   ]
  },
  {
   "cell_type": "code",
   "execution_count": null,
   "metadata": {},
   "outputs": [],
   "source": []
  }
 ],
 "metadata": {
  "kernelspec": {
   "display_name": "Python 3",
   "language": "python",
   "name": "python3"
  },
  "language_info": {
   "codemirror_mode": {
    "name": "ipython",
    "version": 3
   },
   "file_extension": ".py",
   "mimetype": "text/x-python",
   "name": "python",
   "nbconvert_exporter": "python",
   "pygments_lexer": "ipython3",
   "version": "3.7.1"
  }
 },
 "nbformat": 4,
 "nbformat_minor": 2
}
